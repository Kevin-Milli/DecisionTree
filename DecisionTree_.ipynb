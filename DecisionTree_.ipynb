{
 "cells": [
  {
   "cell_type": "markdown",
   "id": "f4a96fe3-0b99-4043-af5a-3183719fac07",
   "metadata": {},
   "source": [
    "# Decision Tree"
   ]
  },
  {
   "cell_type": "code",
   "execution_count": 7,
   "id": "cb5ad44b-d4b3-48ac-8453-a693da62d970",
   "metadata": {},
   "outputs": [],
   "source": [
    "import numpy as np\n",
    "\n",
    "def calculate_entropy(labels):\n",
    "    _, counts = np.unique(labels, return_counts=True)\n",
    "    probabilities = counts / len(labels)\n",
    "    entropy = -np.sum(probabilities * np.log2(probabilities))\n",
    "    return entropy\n",
    "\n",
    "def calculate_gini(labels):\n",
    "    _, counts = np.unique(labels, return_counts=True)\n",
    "    probabilities = counts / len(labels)\n",
    "    gini_impurity = 1 - np.sum(probabilities ** 2)\n",
    "    return gini_impurity\n",
    "\n",
    "class DecisionNode:\n",
    "    def __init__(self, feature_index=None, threshold=None, value=None, true_branch=None, false_branch=None):\n",
    "        self.feature_index = feature_index\n",
    "        self.threshold = threshold\n",
    "        self.value = value\n",
    "        self.true_branch = true_branch\n",
    "        self.false_branch = false_branch\n",
    "\n",
    "class DecisionTree:\n",
    "    def __init__(self, min_samples_split=2, max_depth=None, impurity='entropy'):\n",
    "        self.min_samples_split = min_samples_split\n",
    "        self.max_depth = max_depth\n",
    "        self.impurity = impurity\n",
    "        self.root = None\n",
    "\n",
    "    def split_data(self, X, y, feature_index, threshold):\n",
    "        true_indices = X[:, feature_index] <= threshold\n",
    "        false_indices = ~true_indices\n",
    "        X_true, y_true = X[true_indices], y[true_indices]\n",
    "        X_false, y_false = X[false_indices], y[false_indices]\n",
    "        return X_true, y_true, X_false, y_false\n",
    "\n",
    "    def calculate_impurity(self, y):\n",
    "        if self.impurity == 'entropy':\n",
    "            return calculate_entropy(y)\n",
    "        elif self.impurity == 'gini':\n",
    "            return calculate_gini(y)\n",
    "\n",
    "    def calculate_best_split(self, X, y):\n",
    "        best_gain = -float('inf')\n",
    "        best_feature_index, best_threshold = None, None\n",
    "\n",
    "        for feature_index in range(X.shape[1]):\n",
    "            unique_values = np.unique(X[:, feature_index])\n",
    "            thresholds = (unique_values[:-1] + unique_values[1:]) / 2\n",
    "\n",
    "            for threshold in thresholds:\n",
    "                X_true, y_true, X_false, y_false = self.split_data(X, y, feature_index, threshold)\n",
    "                impurity_true = self.calculate_impurity(y_true)\n",
    "                impurity_false = self.calculate_impurity(y_false)\n",
    "                p_true = len(y_true) / len(y)\n",
    "                p_false = len(y_false) / len(y)\n",
    "                gain = self.calculate_impurity(y) - (p_true * impurity_true + p_false * impurity_false)\n",
    "\n",
    "                if gain > best_gain:\n",
    "                    best_gain = gain\n",
    "                    best_feature_index = feature_index\n",
    "                    best_threshold = threshold\n",
    "\n",
    "        return best_feature_index, best_threshold\n",
    "\n",
    "    def build_tree(self, X, y, depth):\n",
    "        if len(np.unique(y)) == 1:\n",
    "            return DecisionNode(value=np.unique(y)[0])\n",
    "\n",
    "        if len(y) < self.min_samples_split or depth == self.max_depth:\n",
    "            values, counts = np.unique(y, return_counts=True)\n",
    "            return DecisionNode(value=values[np.argmax(counts)])\n",
    "\n",
    "        best_feature_index, best_threshold = self.calculate_best_split(X, y)\n",
    "        X_true, y_true, X_false, y_false = self.split_data(X, y, best_feature_index, best_threshold)\n",
    "        true_branch = self.build_tree(X_true, y_true, depth + 1)\n",
    "        false_branch = self.build_tree(X_false, y_false, depth + 1)\n",
    "\n",
    "        return DecisionNode(feature_index=best_feature_index, threshold=best_threshold,\n",
    "                            true_branch=true_branch, false_branch=false_branch)\n",
    "\n",
    "    def fit(self, X, y):\n",
    "        self.root = self.build_tree(X, y, depth=0)\n",
    "\n",
    "    def predict_sample(self, x, node):\n",
    "        if node.value is not None:\n",
    "            return node.value\n",
    "\n",
    "        if x[node.feature_index] <= node.threshold:\n",
    "            return self.predict_sample(x, node.true_branch)\n",
    "        else:\n",
    "            return self.predict_sample(x, node.false_branch)\n",
    "\n",
    "    def predict(self, X):\n",
    "        predictions = []\n",
    "        for x in X:\n",
    "            predictions.append(self.predict_sample(x, self.root))\n",
    "        return np.array(predictions)"
   ]
  },
  {
   "cell_type": "markdown",
   "id": "bccea4b5-3b65-40fa-a868-dc0f4c43436d",
   "metadata": {},
   "source": [
    "## Exemple of Usage: Iris Dataset"
   ]
  },
  {
   "cell_type": "code",
   "execution_count": 1,
   "id": "158b6026-a344-44ec-9ae7-b6f364061361",
   "metadata": {},
   "outputs": [],
   "source": [
    "from sklearn.datasets import load_iris\n",
    "from sklearn.model_selection import train_test_split\n",
    "from sklearn.metrics import accuracy_score"
   ]
  },
  {
   "cell_type": "code",
   "execution_count": 5,
   "id": "fa2b170b-3839-478b-9391-3d4a63ccf068",
   "metadata": {},
   "outputs": [],
   "source": [
    "data = load_iris()\n",
    "X = data.data\n",
    "y = data.target\n",
    "\n",
    "X_train, X_test, y_train, y_test = train_test_split(X, y, test_size=0.2, random_state=42)"
   ]
  },
  {
   "cell_type": "code",
   "execution_count": 8,
   "id": "d683c686-37af-466d-bfbb-2311dd2e3a66",
   "metadata": {},
   "outputs": [],
   "source": [
    "# Crea un'istanza dell'albero di decisione\n",
    "tree = DecisionTree(min_samples_split=2, max_depth=None, impurity='entropy')\n",
    "\n",
    "# Addestra l'albero di decisione sul training set\n",
    "tree.fit(X_train, y_train)\n",
    "\n",
    "# Esegui le previsioni sull'insieme di test\n",
    "y_pred = tree.predict(X_test)"
   ]
  },
  {
   "cell_type": "code",
   "execution_count": 9,
   "id": "97e02966-f9f7-4418-8903-23afc045c6f3",
   "metadata": {},
   "outputs": [
    {
     "name": "stdout",
     "output_type": "stream",
     "text": [
      "Accuracy: 1.0\n"
     ]
    }
   ],
   "source": [
    "# Calcola l'accuratezza delle previsioni\n",
    "accuracy = accuracy_score(y_test, y_pred)\n",
    "\n",
    "print(\"Accuracy:\", accuracy)"
   ]
  }
 ],
 "metadata": {
  "kernelspec": {
   "display_name": "Python 3 (ipykernel)",
   "language": "python",
   "name": "python3"
  },
  "language_info": {
   "codemirror_mode": {
    "name": "ipython",
    "version": 3
   },
   "file_extension": ".py",
   "mimetype": "text/x-python",
   "name": "python",
   "nbconvert_exporter": "python",
   "pygments_lexer": "ipython3",
   "version": "3.9.13"
  }
 },
 "nbformat": 4,
 "nbformat_minor": 5
}
